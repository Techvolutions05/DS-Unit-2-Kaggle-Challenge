{
  "nbformat": 4,
  "nbformat_minor": 0,
  "metadata": {
    "kernelspec": {
      "display_name": "Python 3",
      "language": "python",
      "name": "python3"
    },
    "language_info": {
      "codemirror_mode": {
        "name": "ipython",
        "version": 3
      },
      "file_extension": ".py",
      "mimetype": "text/x-python",
      "name": "python",
      "nbconvert_exporter": "python",
      "pygments_lexer": "ipython3",
      "version": "3.8.2"
    },
    "colab": {
      "name": "LS_DS_223_assignment.ipynb",
      "provenance": [],
      "include_colab_link": true
    }
  },
  "cells": [
    {
      "cell_type": "markdown",
      "metadata": {
        "id": "view-in-github",
        "colab_type": "text"
      },
      "source": [
        "<a href=\"https://colab.research.google.com/github/Techvolutions05/DS-Unit-2-Kaggle-Challenge/blob/master/module3-cross-validation/LS_DS_223_assignment.ipynb\" target=\"_parent\"><img src=\"https://colab.research.google.com/assets/colab-badge.svg\" alt=\"Open In Colab\"/></a>"
      ]
    },
    {
      "cell_type": "markdown",
      "metadata": {
        "id": "dkl7GxGpNN0S",
        "colab_type": "text"
      },
      "source": [
        "Lambda School Data Science\n",
        "\n",
        "*Unit 2, Sprint 2, Module 3*\n",
        "\n",
        "---"
      ]
    },
    {
      "cell_type": "markdown",
      "metadata": {
        "id": "_oU-UXgWNN0U",
        "colab_type": "text"
      },
      "source": [
        "# Cross-Validation\n",
        "\n",
        "\n",
        "## Assignment\n",
        "- [ ] [Review requirements for your portfolio project](https://lambdaschool.github.io/ds/unit2), then submit your dataset.\n",
        "- [ ] Continue to participate in our Kaggle challenge. \n",
        "- [ ] Use scikit-learn for hyperparameter optimization with RandomizedSearchCV.\n",
        "- [ ] Submit your predictions to our Kaggle competition. (Go to our Kaggle InClass competition webpage. Use the blue **Submit Predictions** button to upload your CSV file. Or you can use the Kaggle API to submit your predictions.)\n",
        "- [ ] Commit your notebook to your fork of the GitHub repo.\n",
        "\n",
        "\n",
        "**You can't just copy** from the lesson notebook to this assignment.\n",
        "\n",
        "- Because the lesson was **regression**, but the assignment is **classification.**\n",
        "- Because the lesson used [TargetEncoder](https://contrib.scikit-learn.org/categorical-encoding/targetencoder.html), which doesn't work as-is for _multi-class_ classification.\n",
        "\n",
        "So you will have to adapt the example, which is good real-world practice.\n",
        "\n",
        "1. Use a model for classification, such as [RandomForestClassifier](https://scikit-learn.org/stable/modules/generated/sklearn.ensemble.RandomForestClassifier.html)\n",
        "2. Use hyperparameters that match the classifier, such as `randomforestclassifier__ ...`\n",
        "3. Use a metric for classification, such as [`scoring='accuracy'`](https://scikit-learn.org/stable/modules/model_evaluation.html#common-cases-predefined-values)\n",
        "4. If you’re doing a multi-class classification problem — such as whether a waterpump is functional, functional needs repair, or nonfunctional — then use a categorical encoding that works for multi-class classification, such as [OrdinalEncoder](https://contrib.scikit-learn.org/categorical-encoding/ordinal.html) (not [TargetEncoder](https://contrib.scikit-learn.org/categorical-encoding/targetencoder.html))\n",
        "\n",
        "\n",
        "\n",
        "## Stretch Goals\n",
        "\n",
        "### Reading\n",
        "- Jake VanderPlas, [Python Data Science Handbook, Chapter 5.3](https://jakevdp.github.io/PythonDataScienceHandbook/05.03-hyperparameters-and-model-validation.html), Hyperparameters and Model Validation\n",
        "- Jake VanderPlas, [Statistics for Hackers](https://speakerdeck.com/jakevdp/statistics-for-hackers?slide=107)\n",
        "- Ron Zacharski, [A Programmer's Guide to Data Mining, Chapter 5](http://guidetodatamining.com/chapter5/), 10-fold cross validation\n",
        "- Sebastian Raschka, [A Basic Pipeline and Grid Search Setup](https://github.com/rasbt/python-machine-learning-book/blob/master/code/bonus/svm_iris_pipeline_and_gridsearch.ipynb)\n",
        "- Peter Worcester, [A Comparison of Grid Search and Randomized Search Using Scikit Learn](https://blog.usejournal.com/a-comparison-of-grid-search-and-randomized-search-using-scikit-learn-29823179bc85)\n",
        "\n",
        "### Doing\n",
        "- Add your own stretch goals!\n",
        "- Try other [categorical encodings](https://contrib.scikit-learn.org/categorical-encoding/). See the previous assignment notebook for details.\n",
        "- In additon to `RandomizedSearchCV`, scikit-learn has [`GridSearchCV`](https://scikit-learn.org/stable/modules/generated/sklearn.model_selection.GridSearchCV.html). Another library called scikit-optimize has [`BayesSearchCV`](https://scikit-optimize.github.io/notebooks/sklearn-gridsearchcv-replacement.html). Experiment with these alternatives.\n",
        "- _[Introduction to Machine Learning with Python](http://shop.oreilly.com/product/0636920030515.do)_ discusses options for \"Grid-Searching Which Model To Use\" in Chapter 6:\n",
        "\n",
        "> You can even go further in combining GridSearchCV and Pipeline: it is also possible to search over the actual steps being performed in the pipeline (say whether to use StandardScaler or MinMaxScaler). This leads to an even bigger search space and should be considered carefully. Trying all possible solutions is usually not a viable machine learning strategy. However, here is an example comparing a RandomForestClassifier and an SVC ...\n",
        "\n",
        "The example is shown in [the accompanying notebook](https://github.com/amueller/introduction_to_ml_with_python/blob/master/06-algorithm-chains-and-pipelines.ipynb), code cells 35-37. Could you apply this concept to your own pipelines?\n"
      ]
    },
    {
      "cell_type": "markdown",
      "metadata": {
        "id": "PssG4fOeNN0W",
        "colab_type": "text"
      },
      "source": [
        "### BONUS: Stacking!\n",
        "\n",
        "Here's some code you can use to \"stack\" multiple submissions, which is another form of ensembling:\n",
        "\n",
        "```python\n",
        "import pandas as pd\n",
        "\n",
        "# Filenames of your submissions you want to ensemble\n",
        "files = ['submission-01.csv', 'submission-02.csv', 'submission-03.csv']\n",
        "\n",
        "target = 'status_group'\n",
        "submissions = (pd.read_csv(file)[[target]] for file in files)\n",
        "ensemble = pd.concat(submissions, axis='columns')\n",
        "majority_vote = ensemble.mode(axis='columns')[0]\n",
        "\n",
        "sample_submission = pd.read_csv('sample_submission.csv')\n",
        "submission = sample_submission.copy()\n",
        "submission[target] = majority_vote\n",
        "submission.to_csv('my-ultimate-ensemble-submission.csv', index=False)\n",
        "```"
      ]
    },
    {
      "cell_type": "code",
      "metadata": {
        "id": "1Gaw7x0FNN0Z",
        "colab_type": "code",
        "colab": {}
      },
      "source": [
        "%%capture\n",
        "import sys\n",
        "\n",
        "# If you're on Colab:\n",
        "if 'google.colab' in sys.modules:\n",
        "    DATA_PATH = 'https://raw.githubusercontent.com/LambdaSchool/DS-Unit-2-Kaggle-Challenge/master/data/'\n",
        "    !pip install category_encoders==2.*\n",
        "\n",
        "# If you're working locally:\n",
        "else:\n",
        "    DATA_PATH = 'https://raw.githubusercontent.com/LambdaSchool/DS-Unit-2-Kaggle-Challenge/master/data/'"
      ],
      "execution_count": 1,
      "outputs": []
    },
    {
      "cell_type": "code",
      "metadata": {
        "id": "0jhWJMHpNN0g",
        "colab_type": "code",
        "colab": {}
      },
      "source": [
        "import pandas as pd\n",
        "\n",
        "# Merge train_features.csv & train_labels.csv\n",
        "train = pd.merge(pd.read_csv(DATA_PATH+'waterpumps/train_features.csv'), \n",
        "                 pd.read_csv(DATA_PATH+'waterpumps/train_labels.csv'))\n",
        "\n",
        "# Read test_features.csv & sample_submission.csv\n",
        "test = pd.read_csv(DATA_PATH+'waterpumps/test_features.csv')\n",
        "sample_submission = pd.read_csv(DATA_PATH+'waterpumps/sample_submission.csv')"
      ],
      "execution_count": 2,
      "outputs": []
    },
    {
      "cell_type": "code",
      "metadata": {
        "id": "1GgORaUzNN0m",
        "colab_type": "code",
        "colab": {
          "base_uri": "https://localhost:8080/",
          "height": 35
        },
        "outputId": "f2262c24-486f-4dfd-8ac8-24b4db884213"
      },
      "source": [
        "train.shape, test.shape"
      ],
      "execution_count": 3,
      "outputs": [
        {
          "output_type": "execute_result",
          "data": {
            "text/plain": [
              "((59400, 41), (14358, 40))"
            ]
          },
          "metadata": {
            "tags": []
          },
          "execution_count": 3
        }
      ]
    },
    {
      "cell_type": "code",
      "metadata": {
        "id": "MZD209RONN0w",
        "colab_type": "code",
        "colab": {}
      },
      "source": [
        "import numpy as np\n",
        "\n",
        "def wrangle(X):\n",
        "    \"\"\"Wrangle train, validate, and test sets in the same way\"\"\"\n",
        "    \n",
        "    # Prevent SettingWithCopyWarning\n",
        "    X = X.copy()\n",
        "    \n",
        "    # About 3% of the time, latitude has small values near zero,\n",
        "    # outside Tanzania, so we'll treat these values like zero.\n",
        "    X['latitude'] = X['latitude'].replace(-2e-08, 0)\n",
        "    \n",
        "    # When columns have zeros and shouldn't, they are like null values.\n",
        "    # So we will replace the zeros with nulls, and impute missing values later.\n",
        "    cols_with_zeros = ['longitude', 'latitude', 'construction_year',\n",
        "                       'gps_height','population','amount_tsh']\n",
        "    for col in cols_with_zeros:\n",
        "        X[col] = X[col].replace(0, np.nan)\n",
        "        X[col+'_MISSING'] = X[col].isnull()\n",
        "    \n",
        "    # Approximate distance from 'Null Island'\n",
        "    X['distance'] = ((X['latitude']+10.99846435)**2 + (X['longitude']-19.6071219)**2)**.5\n",
        "\n",
        "    # Convert to datetime and create year_ month_ & day_recorded\n",
        "    X['date_recorded'] = pd.to_datetime(X['date_recorded'], infer_datetime_format=True)\n",
        "    X['year_recorded'] = X['date_recorded'].dt.year\n",
        "    X['month_recorded'] = X['date_recorded'].dt.month\n",
        "    X['day_recorded'] = X['date_recorded'].dt.day\n",
        "    X = X.drop(columns='date_recorded')\n",
        "\n",
        "    # Engineer feature: how many years from construction_year to date_recorded\n",
        "    X['years'] = X['year_recorded'] - X['construction_year']\n",
        "    X['years_MISSING'] = X['years'].isnull()\n",
        "\n",
        "    # region_code & district_code are numeric columns, but should be categorical features,\n",
        "    # so convert it from a number to a string\n",
        "    X['region_code'] = X['region_code'].astype(str)\n",
        "    X['district_code'] = X['district_code'].astype(str)\n",
        "        \n",
        "    # quantity & quantity_group are duplicates, so drop one\n",
        "    X = X.drop(columns='quantity_group')\n",
        "    \n",
        "    # source, source_class & source_type are almost identical. \n",
        "    # source has higher level of detail.\n",
        "    X = X.drop(columns=['source_class','source_type'])\n",
        "\n",
        "    # recorded_by has single value, so drop.\n",
        "    X = X.drop(columns='recorded_by')\n",
        "\n",
        "    X = X.drop(columns='id')\n",
        "\n",
        "    # water_quality & quality_group are almost identical. \n",
        "    # water_quality has higher level of detail.\n",
        "    X = X.drop(columns='quality_group')\n",
        "\n",
        "    # waterpoint_type & waterpoint_type_group are almost identical. \n",
        "    # waterpoint_type has higher level of detail.\n",
        "    X = X.drop(columns='waterpoint_type_group')\n",
        "\n",
        "    # payment & payment_type are duplicates, so drop one\n",
        "    X = X.drop(columns='payment_type')\n",
        "\n",
        "    # extraction_type, extraction_type_class & extraction_type_group are almost identical. \n",
        "    # extraction_type has higher level of detail.\n",
        "    X = X.drop(columns=['extraction_type_class','extraction_type_group'])\n",
        "\n",
        "    # installer & funder are almost identical. \n",
        "    # funder has higher level of detail.\n",
        "    X = X.drop(columns='installer')     \n",
        "    \n",
        "    # management & management_group are almost identical. \n",
        "    # management has higher level of detail.\n",
        "    X = X.drop(columns='management_group') \n",
        "\n",
        "    # region_code & region are almost identical. \n",
        "    # region_code has higher level of detail.\n",
        "    X = X.drop(columns='region') \n",
        "\n",
        "    # return the wrangled dataframe\n",
        "    return X\n",
        "\n",
        "train = wrangle(train)\n",
        "test = wrangle(test)"
      ],
      "execution_count": 4,
      "outputs": []
    },
    {
      "cell_type": "code",
      "metadata": {
        "id": "BdHGYSviNN01",
        "colab_type": "code",
        "colab": {
          "base_uri": "https://localhost:8080/",
          "height": 74
        },
        "outputId": "cb18411e-e02a-4614-89a0-ce3f450cc145"
      },
      "source": [
        "import category_encoders as ce\n",
        "from sklearn.impute import SimpleImputer\n",
        "from sklearn.model_selection import cross_val_score\n",
        "from sklearn.pipeline import make_pipeline\n",
        "from sklearn.ensemble import RandomForestClassifier\n",
        "from sklearn.model_selection import RandomizedSearchCV\n",
        "from scipy.stats import randint, uniform"
      ],
      "execution_count": 5,
      "outputs": [
        {
          "output_type": "stream",
          "text": [
            "/usr/local/lib/python3.6/dist-packages/statsmodels/tools/_testing.py:19: FutureWarning: pandas.util.testing is deprecated. Use the functions in the public API at pandas.testing instead.\n",
            "  import pandas.util.testing as tm\n"
          ],
          "name": "stderr"
        }
      ]
    },
    {
      "cell_type": "code",
      "metadata": {
        "id": "S7dtLsqcNN05",
        "colab_type": "code",
        "colab": {
          "base_uri": "https://localhost:8080/",
          "height": 35
        },
        "outputId": "bc735326-1f98-4457-cc74-7af0a3f5495a"
      },
      "source": [
        "\n",
        "\n",
        "target = 'status_group'\n",
        "\n",
        "features = train.columns.drop(target)\n",
        "X_train = train[features]\n",
        "y_train = train[target]\n",
        "\n",
        "\n",
        "pipeline = make_pipeline(\n",
        "    ce.OrdinalEncoder(), \n",
        "    SimpleImputer(strategy='median'), \n",
        "    RandomForestClassifier(n_estimators=100, max_depth=22, n_jobs=-1, random_state=42)\n",
        ")\n",
        "\n",
        "k = 5\n",
        "scores = cross_val_score(pipeline, X_train, y_train, cv=k, \n",
        "                         scoring='accuracy')\n",
        "print(f'Accuracy for {k} folds:', scores)"
      ],
      "execution_count": 6,
      "outputs": [
        {
          "output_type": "stream",
          "text": [
            "Accuracy for 5 folds: [0.81329966 0.81094276 0.80841751 0.80816498 0.80917508]\n"
          ],
          "name": "stdout"
        }
      ]
    },
    {
      "cell_type": "code",
      "metadata": {
        "id": "0lzlPCteNN09",
        "colab_type": "code",
        "colab": {}
      },
      "source": [
        "pipeline = make_pipeline(\n",
        "    ce.OrdinalEncoder(), \n",
        "    SimpleImputer(strategy='median'), \n",
        "    RandomForestClassifier(n_estimators=100, max_depth=22, n_jobs=-1, random_state=42)\n",
        ")"
      ],
      "execution_count": 7,
      "outputs": []
    },
    {
      "cell_type": "code",
      "metadata": {
        "id": "gDBJmsIgNN1B",
        "colab_type": "code",
        "colab": {}
      },
      "source": [
        "param_distributions = {\n",
        "     'randomforestclassifier__max_features': uniform(0.2, 0.8),\n",
        "    'randomforestclassifier__criterion': ['gini', 'entropy'],\n",
        "}\n"
      ],
      "execution_count": 8,
      "outputs": []
    },
    {
      "cell_type": "code",
      "metadata": {
        "id": "UOi0zgFHNN1E",
        "colab_type": "code",
        "colab": {
          "base_uri": "https://localhost:8080/",
          "height": 217
        },
        "outputId": "c6617302-b9aa-486f-decd-95e83f26f6dd"
      },
      "source": [
        "search = RandomizedSearchCV(\n",
        "    pipeline, \n",
        "    param_distributions=param_distributions, \n",
        "    n_iter=10, \n",
        "    cv=5, \n",
        "    scoring='accuracy', \n",
        "    verbose=10, \n",
        "    return_train_score=True, \n",
        "    n_jobs=-1\n",
        ")\n",
        "\n",
        "search.fit(X_train, y_train);"
      ],
      "execution_count": 9,
      "outputs": [
        {
          "output_type": "stream",
          "text": [
            "Fitting 5 folds for each of 10 candidates, totalling 50 fits\n"
          ],
          "name": "stdout"
        },
        {
          "output_type": "stream",
          "text": [
            "[Parallel(n_jobs=-1)]: Using backend LokyBackend with 2 concurrent workers.\n",
            "[Parallel(n_jobs=-1)]: Done   1 tasks      | elapsed:   30.1s\n",
            "[Parallel(n_jobs=-1)]: Done   4 tasks      | elapsed:   59.8s\n",
            "[Parallel(n_jobs=-1)]: Done   9 tasks      | elapsed:  5.7min\n",
            "[Parallel(n_jobs=-1)]: Done  14 tasks      | elapsed: 10.7min\n",
            "[Parallel(n_jobs=-1)]: Done  21 tasks      | elapsed: 14.1min\n",
            "[Parallel(n_jobs=-1)]: Done  28 tasks      | elapsed: 18.4min\n",
            "[Parallel(n_jobs=-1)]: Done  37 tasks      | elapsed: 24.2min\n",
            "[Parallel(n_jobs=-1)]: Done  46 tasks      | elapsed: 29.0min\n",
            "[Parallel(n_jobs=-1)]: Done  50 out of  50 | elapsed: 30.8min finished\n"
          ],
          "name": "stderr"
        }
      ]
    },
    {
      "cell_type": "code",
      "metadata": {
        "id": "zaGbWr5DNN1I",
        "colab_type": "code",
        "colab": {
          "base_uri": "https://localhost:8080/",
          "height": 54
        },
        "outputId": "b329c0cd-6925-4c1a-9159-eae1740ed1a8"
      },
      "source": [
        "print('Best hyperparameters', search.best_params_)\n",
        "print('Cross-validation Accuracy', search.best_score_)"
      ],
      "execution_count": 10,
      "outputs": [
        {
          "output_type": "stream",
          "text": [
            "Best hyperparameters {'randomforestclassifier__criterion': 'entropy', 'randomforestclassifier__max_features': 0.33048388417100716}\n",
            "Cross-validation Accuracy 0.810993265993266\n"
          ],
          "name": "stdout"
        }
      ]
    },
    {
      "cell_type": "code",
      "metadata": {
        "id": "FrcFOQlMNN1L",
        "colab_type": "code",
        "colab": {
          "base_uri": "https://localhost:8080/",
          "height": 745
        },
        "outputId": "5ad71069-7a5d-40c7-a3c7-83efc8875490"
      },
      "source": [
        "pd.DataFrame(search.cv_results_).sort_values(by='rank_test_score').T"
      ],
      "execution_count": 11,
      "outputs": [
        {
          "output_type": "execute_result",
          "data": {
            "text/html": [
              "<div>\n",
              "<style scoped>\n",
              "    .dataframe tbody tr th:only-of-type {\n",
              "        vertical-align: middle;\n",
              "    }\n",
              "\n",
              "    .dataframe tbody tr th {\n",
              "        vertical-align: top;\n",
              "    }\n",
              "\n",
              "    .dataframe thead th {\n",
              "        text-align: right;\n",
              "    }\n",
              "</style>\n",
              "<table border=\"1\" class=\"dataframe\">\n",
              "  <thead>\n",
              "    <tr style=\"text-align: right;\">\n",
              "      <th></th>\n",
              "      <th>6</th>\n",
              "      <th>3</th>\n",
              "      <th>9</th>\n",
              "      <th>0</th>\n",
              "      <th>8</th>\n",
              "      <th>5</th>\n",
              "      <th>1</th>\n",
              "      <th>7</th>\n",
              "      <th>4</th>\n",
              "      <th>2</th>\n",
              "    </tr>\n",
              "  </thead>\n",
              "  <tbody>\n",
              "    <tr>\n",
              "      <th>mean_fit_time</th>\n",
              "      <td>55.152</td>\n",
              "      <td>46.735</td>\n",
              "      <td>58.6904</td>\n",
              "      <td>26.1004</td>\n",
              "      <td>25.9645</td>\n",
              "      <td>65.717</td>\n",
              "      <td>120.9</td>\n",
              "      <td>115.516</td>\n",
              "      <td>80.3122</td>\n",
              "      <td>103.007</td>\n",
              "    </tr>\n",
              "    <tr>\n",
              "      <th>std_fit_time</th>\n",
              "      <td>0.362473</td>\n",
              "      <td>0.664596</td>\n",
              "      <td>8.32322</td>\n",
              "      <td>0.153413</td>\n",
              "      <td>0.568633</td>\n",
              "      <td>0.81408</td>\n",
              "      <td>2.42056</td>\n",
              "      <td>1.59061</td>\n",
              "      <td>0.745727</td>\n",
              "      <td>1.27109</td>\n",
              "    </tr>\n",
              "    <tr>\n",
              "      <th>mean_score_time</th>\n",
              "      <td>0.863997</td>\n",
              "      <td>0.817227</td>\n",
              "      <td>0.76061</td>\n",
              "      <td>0.707418</td>\n",
              "      <td>0.91228</td>\n",
              "      <td>0.905538</td>\n",
              "      <td>0.87831</td>\n",
              "      <td>0.809773</td>\n",
              "      <td>0.885541</td>\n",
              "      <td>0.778947</td>\n",
              "    </tr>\n",
              "    <tr>\n",
              "      <th>std_score_time</th>\n",
              "      <td>0.0916909</td>\n",
              "      <td>0.0398639</td>\n",
              "      <td>0.184185</td>\n",
              "      <td>0.145206</td>\n",
              "      <td>0.0900012</td>\n",
              "      <td>0.103757</td>\n",
              "      <td>0.0933367</td>\n",
              "      <td>0.0708541</td>\n",
              "      <td>0.110784</td>\n",
              "      <td>0.06406</td>\n",
              "    </tr>\n",
              "    <tr>\n",
              "      <th>param_randomforestclassifier__criterion</th>\n",
              "      <td>entropy</td>\n",
              "      <td>entropy</td>\n",
              "      <td>entropy</td>\n",
              "      <td>gini</td>\n",
              "      <td>gini</td>\n",
              "      <td>gini</td>\n",
              "      <td>entropy</td>\n",
              "      <td>entropy</td>\n",
              "      <td>gini</td>\n",
              "      <td>gini</td>\n",
              "    </tr>\n",
              "    <tr>\n",
              "      <th>param_randomforestclassifier__max_features</th>\n",
              "      <td>0.330484</td>\n",
              "      <td>0.285469</td>\n",
              "      <td>0.372926</td>\n",
              "      <td>0.22941</td>\n",
              "      <td>0.231455</td>\n",
              "      <td>0.622637</td>\n",
              "      <td>0.754586</td>\n",
              "      <td>0.726406</td>\n",
              "      <td>0.757474</td>\n",
              "      <td>0.96395</td>\n",
              "    </tr>\n",
              "    <tr>\n",
              "      <th>params</th>\n",
              "      <td>{'randomforestclassifier__criterion': 'entropy...</td>\n",
              "      <td>{'randomforestclassifier__criterion': 'entropy...</td>\n",
              "      <td>{'randomforestclassifier__criterion': 'entropy...</td>\n",
              "      <td>{'randomforestclassifier__criterion': 'gini', ...</td>\n",
              "      <td>{'randomforestclassifier__criterion': 'gini', ...</td>\n",
              "      <td>{'randomforestclassifier__criterion': 'gini', ...</td>\n",
              "      <td>{'randomforestclassifier__criterion': 'entropy...</td>\n",
              "      <td>{'randomforestclassifier__criterion': 'entropy...</td>\n",
              "      <td>{'randomforestclassifier__criterion': 'gini', ...</td>\n",
              "      <td>{'randomforestclassifier__criterion': 'gini', ...</td>\n",
              "    </tr>\n",
              "    <tr>\n",
              "      <th>split0_test_score</th>\n",
              "      <td>0.81431</td>\n",
              "      <td>0.813636</td>\n",
              "      <td>0.813384</td>\n",
              "      <td>0.811953</td>\n",
              "      <td>0.811953</td>\n",
              "      <td>0.809848</td>\n",
              "      <td>0.810774</td>\n",
              "      <td>0.809007</td>\n",
              "      <td>0.805808</td>\n",
              "      <td>0.802778</td>\n",
              "    </tr>\n",
              "    <tr>\n",
              "      <th>split1_test_score</th>\n",
              "      <td>0.810606</td>\n",
              "      <td>0.811785</td>\n",
              "      <td>0.810859</td>\n",
              "      <td>0.810101</td>\n",
              "      <td>0.810101</td>\n",
              "      <td>0.807744</td>\n",
              "      <td>0.808586</td>\n",
              "      <td>0.809175</td>\n",
              "      <td>0.807239</td>\n",
              "      <td>0.802609</td>\n",
              "    </tr>\n",
              "    <tr>\n",
              "      <th>split2_test_score</th>\n",
              "      <td>0.809596</td>\n",
              "      <td>0.809848</td>\n",
              "      <td>0.809933</td>\n",
              "      <td>0.807997</td>\n",
              "      <td>0.807997</td>\n",
              "      <td>0.806566</td>\n",
              "      <td>0.80463</td>\n",
              "      <td>0.806145</td>\n",
              "      <td>0.806987</td>\n",
              "      <td>0.803956</td>\n",
              "    </tr>\n",
              "    <tr>\n",
              "      <th>split3_test_score</th>\n",
              "      <td>0.810606</td>\n",
              "      <td>0.809933</td>\n",
              "      <td>0.807744</td>\n",
              "      <td>0.80665</td>\n",
              "      <td>0.80665</td>\n",
              "      <td>0.807492</td>\n",
              "      <td>0.806229</td>\n",
              "      <td>0.806145</td>\n",
              "      <td>0.803788</td>\n",
              "      <td>0.800337</td>\n",
              "    </tr>\n",
              "    <tr>\n",
              "      <th>split4_test_score</th>\n",
              "      <td>0.809848</td>\n",
              "      <td>0.807744</td>\n",
              "      <td>0.806313</td>\n",
              "      <td>0.806818</td>\n",
              "      <td>0.806818</td>\n",
              "      <td>0.806734</td>\n",
              "      <td>0.806987</td>\n",
              "      <td>0.805471</td>\n",
              "      <td>0.80463</td>\n",
              "      <td>0.801094</td>\n",
              "    </tr>\n",
              "    <tr>\n",
              "      <th>mean_test_score</th>\n",
              "      <td>0.810993</td>\n",
              "      <td>0.810589</td>\n",
              "      <td>0.809646</td>\n",
              "      <td>0.808704</td>\n",
              "      <td>0.808704</td>\n",
              "      <td>0.807677</td>\n",
              "      <td>0.807441</td>\n",
              "      <td>0.807189</td>\n",
              "      <td>0.80569</td>\n",
              "      <td>0.802155</td>\n",
              "    </tr>\n",
              "    <tr>\n",
              "      <th>std_test_score</th>\n",
              "      <td>0.00170658</td>\n",
              "      <td>0.00198938</td>\n",
              "      <td>0.00245964</td>\n",
              "      <td>0.00203878</td>\n",
              "      <td>0.00203878</td>\n",
              "      <td>0.00117291</td>\n",
              "      <td>0.0020977</td>\n",
              "      <td>0.00157351</td>\n",
              "      <td>0.00132943</td>\n",
              "      <td>0.00128609</td>\n",
              "    </tr>\n",
              "    <tr>\n",
              "      <th>rank_test_score</th>\n",
              "      <td>1</td>\n",
              "      <td>2</td>\n",
              "      <td>3</td>\n",
              "      <td>4</td>\n",
              "      <td>4</td>\n",
              "      <td>6</td>\n",
              "      <td>7</td>\n",
              "      <td>8</td>\n",
              "      <td>9</td>\n",
              "      <td>10</td>\n",
              "    </tr>\n",
              "    <tr>\n",
              "      <th>split0_train_score</th>\n",
              "      <td>0.994297</td>\n",
              "      <td>0.995055</td>\n",
              "      <td>0.994697</td>\n",
              "      <td>0.990236</td>\n",
              "      <td>0.990236</td>\n",
              "      <td>0.986237</td>\n",
              "      <td>0.993939</td>\n",
              "      <td>0.994529</td>\n",
              "      <td>0.985332</td>\n",
              "      <td>0.982029</td>\n",
              "    </tr>\n",
              "    <tr>\n",
              "      <th>split1_train_score</th>\n",
              "      <td>0.988384</td>\n",
              "      <td>0.989057</td>\n",
              "      <td>0.988805</td>\n",
              "      <td>0.981524</td>\n",
              "      <td>0.981524</td>\n",
              "      <td>0.980513</td>\n",
              "      <td>0.988173</td>\n",
              "      <td>0.987879</td>\n",
              "      <td>0.979398</td>\n",
              "      <td>0.978114</td>\n",
              "    </tr>\n",
              "    <tr>\n",
              "      <th>split2_train_score</th>\n",
              "      <td>0.987205</td>\n",
              "      <td>0.986469</td>\n",
              "      <td>0.987837</td>\n",
              "      <td>0.980051</td>\n",
              "      <td>0.980051</td>\n",
              "      <td>0.979651</td>\n",
              "      <td>0.986258</td>\n",
              "      <td>0.986763</td>\n",
              "      <td>0.977862</td>\n",
              "      <td>0.976052</td>\n",
              "    </tr>\n",
              "    <tr>\n",
              "      <th>split3_train_score</th>\n",
              "      <td>0.988068</td>\n",
              "      <td>0.987837</td>\n",
              "      <td>0.988384</td>\n",
              "      <td>0.981923</td>\n",
              "      <td>0.981923</td>\n",
              "      <td>0.978893</td>\n",
              "      <td>0.985669</td>\n",
              "      <td>0.988237</td>\n",
              "      <td>0.978367</td>\n",
              "      <td>0.977441</td>\n",
              "    </tr>\n",
              "    <tr>\n",
              "      <th>split4_train_score</th>\n",
              "      <td>0.990341</td>\n",
              "      <td>0.989625</td>\n",
              "      <td>0.989752</td>\n",
              "      <td>0.981229</td>\n",
              "      <td>0.981229</td>\n",
              "      <td>0.980198</td>\n",
              "      <td>0.987879</td>\n",
              "      <td>0.989184</td>\n",
              "      <td>0.980156</td>\n",
              "      <td>0.979588</td>\n",
              "    </tr>\n",
              "    <tr>\n",
              "      <th>mean_train_score</th>\n",
              "      <td>0.989659</td>\n",
              "      <td>0.989609</td>\n",
              "      <td>0.989895</td>\n",
              "      <td>0.982992</td>\n",
              "      <td>0.982992</td>\n",
              "      <td>0.981098</td>\n",
              "      <td>0.988384</td>\n",
              "      <td>0.989318</td>\n",
              "      <td>0.980223</td>\n",
              "      <td>0.978645</td>\n",
              "    </tr>\n",
              "    <tr>\n",
              "      <th>std_train_score</th>\n",
              "      <td>0.00253591</td>\n",
              "      <td>0.00293128</td>\n",
              "      <td>0.00248147</td>\n",
              "      <td>0.00367505</td>\n",
              "      <td>0.00367505</td>\n",
              "      <td>0.0026276</td>\n",
              "      <td>0.00293429</td>\n",
              "      <td>0.00271791</td>\n",
              "      <td>0.00267623</td>\n",
              "      <td>0.00203916</td>\n",
              "    </tr>\n",
              "  </tbody>\n",
              "</table>\n",
              "</div>"
            ],
            "text/plain": [
              "                                                                                            6  ...                                                  2\n",
              "mean_fit_time                                                                          55.152  ...                                            103.007\n",
              "std_fit_time                                                                         0.362473  ...                                            1.27109\n",
              "mean_score_time                                                                      0.863997  ...                                           0.778947\n",
              "std_score_time                                                                      0.0916909  ...                                            0.06406\n",
              "param_randomforestclassifier__criterion                                               entropy  ...                                               gini\n",
              "param_randomforestclassifier__max_features                                           0.330484  ...                                            0.96395\n",
              "params                                      {'randomforestclassifier__criterion': 'entropy...  ...  {'randomforestclassifier__criterion': 'gini', ...\n",
              "split0_test_score                                                                     0.81431  ...                                           0.802778\n",
              "split1_test_score                                                                    0.810606  ...                                           0.802609\n",
              "split2_test_score                                                                    0.809596  ...                                           0.803956\n",
              "split3_test_score                                                                    0.810606  ...                                           0.800337\n",
              "split4_test_score                                                                    0.809848  ...                                           0.801094\n",
              "mean_test_score                                                                      0.810993  ...                                           0.802155\n",
              "std_test_score                                                                     0.00170658  ...                                         0.00128609\n",
              "rank_test_score                                                                             1  ...                                                 10\n",
              "split0_train_score                                                                   0.994297  ...                                           0.982029\n",
              "split1_train_score                                                                   0.988384  ...                                           0.978114\n",
              "split2_train_score                                                                   0.987205  ...                                           0.976052\n",
              "split3_train_score                                                                   0.988068  ...                                           0.977441\n",
              "split4_train_score                                                                   0.990341  ...                                           0.979588\n",
              "mean_train_score                                                                     0.989659  ...                                           0.978645\n",
              "std_train_score                                                                    0.00253591  ...                                         0.00203916\n",
              "\n",
              "[22 rows x 10 columns]"
            ]
          },
          "metadata": {
            "tags": []
          },
          "execution_count": 11
        }
      ]
    },
    {
      "cell_type": "code",
      "metadata": {
        "id": "Nmu1TcTaNN1Q",
        "colab_type": "code",
        "colab": {}
      },
      "source": [
        "pipeline = search.best_estimator_\n",
        "y_pred = pipeline.predict(test)"
      ],
      "execution_count": 12,
      "outputs": []
    },
    {
      "cell_type": "code",
      "metadata": {
        "id": "b_FoGJWKNN1T",
        "colab_type": "code",
        "colab": {}
      },
      "source": [
        "DATA_PATH = 'https://raw.githubusercontent.com/LambdaSchool/DS-Unit-2-Kaggle-Challenge/master/data/'\n",
        "sample_submission = pd.read_csv(DATA_PATH+'waterpumps/sample_submission.csv')\n",
        "submission = sample_submission.copy()\n",
        "submission['status_group'] = y_pred\n",
        "submission.to_csv('Decision_CV_Tanzania.csv', index=False)"
      ],
      "execution_count": 13,
      "outputs": []
    },
    {
      "cell_type": "code",
      "metadata": {
        "id": "YhvDvYpHWWxU",
        "colab_type": "code",
        "colab": {
          "base_uri": "https://localhost:8080/",
          "height": 17
        },
        "outputId": "14493470-9041-4e86-9f8b-aa920d4a33d7"
      },
      "source": [
        "from google.colab import files\n",
        "files.download('Decision_CV_Tanzania.csv')"
      ],
      "execution_count": 16,
      "outputs": [
        {
          "output_type": "display_data",
          "data": {
            "application/javascript": [
              "\n",
              "    async function download(id, filename, size) {\n",
              "      if (!google.colab.kernel.accessAllowed) {\n",
              "        return;\n",
              "      }\n",
              "      const div = document.createElement('div');\n",
              "      const label = document.createElement('label');\n",
              "      label.textContent = `Downloading \"${filename}\": `;\n",
              "      div.appendChild(label);\n",
              "      const progress = document.createElement('progress');\n",
              "      progress.max = size;\n",
              "      div.appendChild(progress);\n",
              "      document.body.appendChild(div);\n",
              "\n",
              "      const buffers = [];\n",
              "      let downloaded = 0;\n",
              "\n",
              "      const channel = await google.colab.kernel.comms.open(id);\n",
              "      // Send a message to notify the kernel that we're ready.\n",
              "      channel.send({})\n",
              "\n",
              "      for await (const message of channel.messages) {\n",
              "        // Send a message to notify the kernel that we're ready.\n",
              "        channel.send({})\n",
              "        if (message.buffers) {\n",
              "          for (const buffer of message.buffers) {\n",
              "            buffers.push(buffer);\n",
              "            downloaded += buffer.byteLength;\n",
              "            progress.value = downloaded;\n",
              "          }\n",
              "        }\n",
              "      }\n",
              "      const blob = new Blob(buffers, {type: 'application/binary'});\n",
              "      const a = document.createElement('a');\n",
              "      a.href = window.URL.createObjectURL(blob);\n",
              "      a.download = filename;\n",
              "      div.appendChild(a);\n",
              "      a.click();\n",
              "      div.remove();\n",
              "    }\n",
              "  "
            ],
            "text/plain": [
              "<IPython.core.display.Javascript object>"
            ]
          },
          "metadata": {
            "tags": []
          }
        },
        {
          "output_type": "display_data",
          "data": {
            "application/javascript": [
              "download(\"download_02a480da-df63-4353-ad7e-6f6ff17c0ef5\", \"Decision_CV_Tanzania.csv\", 270565)"
            ],
            "text/plain": [
              "<IPython.core.display.Javascript object>"
            ]
          },
          "metadata": {
            "tags": []
          }
        }
      ]
    },
    {
      "cell_type": "code",
      "metadata": {
        "id": "cQk4vMwqWZLX",
        "colab_type": "code",
        "colab": {}
      },
      "source": [
        ""
      ],
      "execution_count": null,
      "outputs": []
    }
  ]
}